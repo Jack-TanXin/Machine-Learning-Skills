{
 "cells": [
  {
   "cell_type": "markdown",
   "metadata": {},
   "source": [
    "# <center>***模型融合***<center>\n",
    "\n",
    "更多代码欢迎传送至：\n",
    ">https://gitee.com/tanxin12/tanxin"
   ]
  },
  {
   "cell_type": "code",
   "execution_count": 1,
   "metadata": {},
   "outputs": [],
   "source": [
    "import pandas as pd\n",
    "import numpy as np\n",
    "\n",
    "from sklearn.model_selection import train_test_split"
   ]
  },
  {
   "cell_type": "code",
   "execution_count": 2,
   "metadata": {},
   "outputs": [],
   "source": [
    "names = ['萼片长度', '萼片宽度', '花瓣长度', '花瓣宽度', 'Class']\n",
    "df1 = pd.read_csv(\".\\\\data\\\\Iris.txt\", names=names)\n",
    "\n",
    "X = df1.drop(\"Class\", axis=1)\n",
    "y = df1.Class\n",
    "X1_train, X1_test, y1_train, y1_test = train_test_split(X, y, test_size=0.2, random_state=0)"
   ]
  },
  {
   "cell_type": "code",
   "execution_count": 3,
   "metadata": {},
   "outputs": [],
   "source": [
    "filename = \".\\\\Data\\\\Boston.txt\"\n",
    "names = [\"CRIM\", \"ZN\", \"INDUS\", \"CHAS\", \"NOX\", \"RM\",\n",
    "    \"AGE\", \"DIS\", \"RAD\", \"TAX\", \"PTRATIO\", \"B\", \"LSTAT\", \"PRICE\"]\n",
    "df2 = pd.read_csv(filename, sep=\"\\s+\", names=names)\n",
    "\n",
    "X = pd.get_dummies(df2.drop(\"PRICE\", axis=1))\n",
    "y = df2.PRICE\n",
    "X2_train, X2_test, y2_train, y2_test = train_test_split(X, y, test_size=0.2, random_state=0)"
   ]
  },
  {
   "cell_type": "markdown",
   "metadata": {},
   "source": [
    "## <center>**Voting——分类模型融合**<center>"
   ]
  },
  {
   "cell_type": "code",
   "execution_count": 4,
   "metadata": {},
   "outputs": [],
   "source": [
    "from sklearn.discriminant_analysis import LinearDiscriminantAnalysis\n",
    "from sklearn.ensemble import VotingClassifier\n",
    "from sklearn.linear_model import LogisticRegression\n",
    "from sklearn.metrics import accuracy_score, explained_variance_score\n",
    "from sklearn.naive_bayes import GaussianNB\n",
    "from sklearn.neighbors import KNeighborsClassifier\n",
    "from sklearn.svm import SVC\n",
    "from sklearn.tree import DecisionTreeClassifier"
   ]
  },
  {
   "cell_type": "code",
   "execution_count": 5,
   "metadata": {},
   "outputs": [],
   "source": [
    "Model1 = LogisticRegression(max_iter=1000)\n",
    "Model2 = LinearDiscriminantAnalysis()\n",
    "Model3 = KNeighborsClassifier()\n",
    "Model4 = DecisionTreeClassifier()\n",
    "Model5 = GaussianNB()\n",
    "Model6 = SVC(probability=True)\n",
    "\n",
    "Model_plus = VotingClassifier(estimators=[(\"LR\", Model1), (\"LDA\", Model2),\n",
    "                            (\"KNN\", Model3), (\"DT\", Model4),\n",
    "                            (\"NB\", Model5), (\"SVM\", Model6)],\n",
    "                            voting=\"soft\")"
   ]
  },
  {
   "cell_type": "code",
   "execution_count": 6,
   "metadata": {},
   "outputs": [
    {
     "name": "stdout",
     "output_type": "stream",
     "text": [
      "LR 1.00000\n",
      "LDA 1.00000\n",
      "KNN 0.96667\n",
      "DT 1.00000\n",
      "NB 0.96667\n",
      "SVM 1.00000\n",
      "Voting 1.00000\n"
     ]
    }
   ],
   "source": [
    "names = [\"LR\", \"LDA\", \"KNN\", \"DT\", \"NB\", \"SVM\", \"Voting\"]\n",
    "model = [Model1, Model2, Model3, Model4, Model5, Model6, Model_plus]\n",
    "for i in range(0, 7):\n",
    "    model[i].fit(X1_train, y1_train)\n",
    "    y1_pred = model[i].predict(X1_test)\n",
    "    print(names[i], \"%.5f\" % accuracy_score(y1_pred, y1_test))"
   ]
  },
  {
   "attachments": {},
   "cell_type": "markdown",
   "metadata": {},
   "source": [
    "## <center>**Stacking——回归模型集成**<center>"
   ]
  },
  {
   "cell_type": "code",
   "execution_count": 7,
   "metadata": {},
   "outputs": [],
   "source": [
    "from mlxtend.regressor import StackingRegressor\n",
    "\n",
    "from sklearn.linear_model import LinearRegression\n",
    "from sklearn.linear_model import Ridge\n",
    "from sklearn.svm import SVR\n",
    "\n",
    "from sklearn.metrics import mean_squared_error"
   ]
  },
  {
   "cell_type": "code",
   "execution_count": 8,
   "metadata": {},
   "outputs": [],
   "source": [
    "# 初始化模型\n",
    "lr = LinearRegression()\n",
    "svr_lin = SVR(kernel='linear')\n",
    "ridge = Ridge(random_state=1)\n",
    "svr_rbf = SVR(kernel='rbf')\n",
    "\n",
    "#融合四个模型\n",
    "model_plus = StackingRegressor(\n",
    "                        regressors=[svr_lin, lr, ridge], \n",
    "                        meta_regressor=svr_rbf\n",
    "                        )"
   ]
  },
  {
   "cell_type": "code",
   "execution_count": 9,
   "metadata": {},
   "outputs": [
    {
     "name": "stdout",
     "output_type": "stream",
     "text": [
      "LinearRegression 33.44898\n",
      "svr_lin 39.41513\n",
      "ridge 34.23161\n",
      "svr_rbf 78.47805\n",
      "model_plus 32.15039\n"
     ]
    },
    {
     "name": "stderr",
     "output_type": "stream",
     "text": [
      "e:\\Anaconda\\envs\\ml\\lib\\site-packages\\sklearn\\base.py:402: UserWarning: X has feature names, but SVR was fitted without feature names\n",
      "  warnings.warn(\n",
      "e:\\Anaconda\\envs\\ml\\lib\\site-packages\\sklearn\\base.py:402: UserWarning: X has feature names, but LinearRegression was fitted without feature names\n",
      "  warnings.warn(\n",
      "e:\\Anaconda\\envs\\ml\\lib\\site-packages\\sklearn\\base.py:402: UserWarning: X has feature names, but Ridge was fitted without feature names\n",
      "  warnings.warn(\n"
     ]
    }
   ],
   "source": [
    "names = [\"LinearRegression\", \"svr_lin\", \"ridge\", \"svr_rbf\", \"model_plus\"]\n",
    "model = [lr, svr_lin, ridge, svr_rbf, model_plus]\n",
    "for i in range(0, 5):\n",
    "    model[i].fit(X2_train, y2_train)\n",
    "    y2_pred = model[i].predict(X2_test)\n",
    "    print(names[i], \"%.5f\" % mean_squared_error(y2_test, y2_pred))"
   ]
  }
 ],
 "metadata": {
  "kernelspec": {
   "display_name": "ml",
   "language": "python",
   "name": "python3"
  },
  "language_info": {
   "codemirror_mode": {
    "name": "ipython",
    "version": 3
   },
   "file_extension": ".py",
   "mimetype": "text/x-python",
   "name": "python",
   "nbconvert_exporter": "python",
   "pygments_lexer": "ipython3",
   "version": "3.9.15 (main, Nov 24 2022, 14:39:17) [MSC v.1916 64 bit (AMD64)]"
  },
  "orig_nbformat": 4,
  "vscode": {
   "interpreter": {
    "hash": "54a39cc3523c7e5b1833f45fa8a855e5f1115a854f3138154bde004a598fc20f"
   }
  }
 },
 "nbformat": 4,
 "nbformat_minor": 2
}
