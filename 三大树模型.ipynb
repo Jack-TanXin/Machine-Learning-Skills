{
 "cells": [
  {
   "attachments": {},
   "cell_type": "markdown",
   "metadata": {},
   "source": [
    "# <center>***感受树模型的压迫感***<center>"
   ]
  },
  {
   "cell_type": "code",
   "execution_count": null,
   "metadata": {},
   "outputs": [],
   "source": [
    "# 下载三个树模型机器学习库\n",
    "%pip install xgboost\n",
    "%pip install catboost\n",
    "%pip install lightgbm"
   ]
  },
  {
   "cell_type": "markdown",
   "metadata": {},
   "source": [
    "## <font color=#FF0000>**1、导入需要的模块与数据**"
   ]
  },
  {
   "cell_type": "code",
   "execution_count": null,
   "metadata": {},
   "outputs": [],
   "source": [
    "import numpy as np\n",
    "import pandas as pd\n",
    "\n",
    "from matplotlib import pyplot as plt\n",
    "from sklearn.model_selection import GridSearchCV, train_test_split\n",
    "\n",
    "import xgboost as xgb\n",
    "import catboost as cat\n",
    "import lightgbm as lgb"
   ]
  },
  {
   "attachments": {},
   "cell_type": "markdown",
   "metadata": {},
   "source": [
    "### **简单的数据读入**"
   ]
  },
  {
   "cell_type": "code",
   "execution_count": null,
   "metadata": {},
   "outputs": [],
   "source": [
    "def load_data():\n",
    "\n",
    "    df1 = pd.read_csv(\".\\\\data\\\\train_u6lujuX_CVtuZ9i.csv\")\n",
    "    df1 = df1.drop(\"Loan_ID\", axis=1)\n",
    "\n",
    "    df1['Gender'].fillna(df1['Gender'].mode()[0], inplace=True)\n",
    "    df1['Married'].fillna(df1['Married'].mode()[0], inplace=True)\n",
    "    df1['Dependents'].fillna(df1['Dependents'].mode()[0], inplace=True)\n",
    "    df1['Self_Employed'].fillna(df1['Self_Employed'].mode()[0], inplace=True)\n",
    "    df1['LoanAmount'].fillna(df1['LoanAmount'].mean(), inplace=True)\n",
    "    df1['Loan_Amount_Term'].fillna(df1['Loan_Amount_Term'].mode()[0], inplace=True)\n",
    "    df1['Credit_History'].fillna(df1['Credit_History'].mode()[0], inplace=True)\n",
    "\n",
    "    return df1\n",
    "\n",
    "df1 = load_data()"
   ]
  },
  {
   "attachments": {},
   "cell_type": "markdown",
   "metadata": {},
   "source": [
    "### **简单的数据清洗与划分**"
   ]
  },
  {
   "cell_type": "code",
   "execution_count": null,
   "metadata": {},
   "outputs": [],
   "source": [
    "def process(ratio=0.8):\n",
    "\n",
    "    X = df1.drop(\"Loan_Status\", axis=1)\n",
    "    y = df1.Loan_Status\n",
    "\n",
    "    X = pd.get_dummies(X)\n",
    "    y = y.map({\"Y\": 1, \"N\": 0})\n",
    "\n",
    "    feature_name = X.columns\n",
    "    X_train, X_test, y_train, y_test = train_test_split(X, y, train_size=ratio, random_state=1)\n",
    "\n",
    "    return X_train, X_test, y_train, y_test\n",
    "\n",
    "X_train, X_test, y_train, y_test = process()"
   ]
  },
  {
   "cell_type": "markdown",
   "metadata": {},
   "source": [
    "## <font color=#FF0000>**2、初始化模型与剪枝**"
   ]
  },
  {
   "attachments": {},
   "cell_type": "markdown",
   "metadata": {},
   "source": [
    "### **XGBoost**"
   ]
  },
  {
   "cell_type": "code",
   "execution_count": null,
   "metadata": {},
   "outputs": [],
   "source": [
    "# 尽量把学习率设置的高点，这样迭代的时间会短些\n",
    "model1 = xgb.XGBClassifier(learning_rate=0.1)\n",
    "param1 = {\n",
    "        \"max_depth\":[4, 7, 10],\n",
    "        'min_child_weight': [1, 3, 5],\n",
    "        \"n_estimators\":[10, 50, 100],\n",
    "        'gamma': [0.1, 0.3, 0.5],\n",
    "        'reg_alpha': [0.05, 0.1, 1], \n",
    "        'reg_lambda': [0.05, 0.1, 1]\n",
    "        }\n",
    "\n",
    "grid_search1 = GridSearchCV(model1, n_jobs=-1, param_grid=param1, cv=5, scoring=\"roc_auc\")\n",
    "grid_search1.fit(X_train, y_train)\n",
    "grid_search1.best_estimator_, grid_search1.best_score_"
   ]
  },
  {
   "attachments": {},
   "cell_type": "markdown",
   "metadata": {},
   "source": [
    "### **Catboost**"
   ]
  },
  {
   "cell_type": "code",
   "execution_count": null,
   "metadata": {},
   "outputs": [],
   "source": [
    "model2 = cat.CatBoostClassifier(learning_rate=0.1)\n",
    "param2 = {\n",
    "        \"depth\":[4, 6, 8, 10],\n",
    "        \"iterations\":[100, 200, 400, 700, 1000],\n",
    "        'max_leaves':[5, 15, 25, 35],\n",
    "        'l2_leaf_reg': [1, 3, 5, 7, 9]\n",
    "        }\n",
    "\n",
    "grid_search2 = GridSearchCV(model1, n_jobs=-1, param_grid=param1, cv=5, scoring=\"roc_auc\")\n",
    "grid_search2.fit(X_train, y_train)\n",
    "grid_search2.best_estimator_, grid_search2.best_score_"
   ]
  },
  {
   "attachments": {},
   "cell_type": "markdown",
   "metadata": {},
   "source": [
    "### **LightGBM**"
   ]
  },
  {
   "cell_type": "code",
   "execution_count": null,
   "metadata": {},
   "outputs": [],
   "source": [
    "model3 = lgb.LGBMClassifier(learning_rate=0.1)\n",
    "param3 = {\n",
    "        \"max_depth\":[4, 7, 10],\n",
    "        \"num_leaves\":[300, 600, 900],\n",
    "        \"n_estimators\":[10, 70, 130],\n",
    "        'min_child_samples': [18, 20, 22],\n",
    "        'min_child_weight':[0.001, 0.002]\n",
    "        }\n",
    "\n",
    "grid_search3 = GridSearchCV(model3, n_jobs=-1, param_grid=param3, cv=5, scoring=\"roc_auc\")\n",
    "grid_search3.fit(X_train, y_train)\n",
    "grid_search3.best_estimator_, grid_search3.best_score_"
   ]
  },
  {
   "cell_type": "markdown",
   "metadata": {},
   "source": [
    "## <font color=#FF0000>**3、模型建立（Scikit-learn接口）**"
   ]
  },
  {
   "cell_type": "code",
   "execution_count": null,
   "metadata": {},
   "outputs": [],
   "source": [
    "# 变量grid_search.best_estimator_以及自动存储了使用最佳参数组合的模型\n",
    "model1_plus = grid_search1.best_estimator_\n",
    "y_pred = model1_plus.fit(X_train, y_train).predict(X_test)"
   ]
  },
  {
   "cell_type": "markdown",
   "metadata": {},
   "source": [
    "## <font color=#FF0000>**4、模型评价**"
   ]
  },
  {
   "cell_type": "markdown",
   "metadata": {},
   "source": [
    "### <center>**分类指标评价**"
   ]
  },
  {
   "cell_type": "code",
   "execution_count": null,
   "metadata": {},
   "outputs": [],
   "source": [
    "from sklearn.metrics import classification_report\n",
    "\n",
    "# 打印分类模型最好的评价系统\n",
    "print(\"评估数据结果打印:\\n\", classification_report(y_test, y_pred))"
   ]
  },
  {
   "cell_type": "markdown",
   "metadata": {},
   "source": [
    "### <center>**可视化评价**"
   ]
  },
  {
   "cell_type": "code",
   "execution_count": null,
   "metadata": {},
   "outputs": [],
   "source": [
    "from sklearn.metrics import confusion_matrix, roc_auc_score, roc_curve\n",
    "import seaborn as sns\n",
    "\n",
    "# Confusion Matrix\n",
    "mat = confusion_matrix(y_test, y_pred, labels=[1, 0])\n",
    "\n",
    "# fpr, tpr\n",
    "fpr, tpr, thresholds = roc_curve(y_test, y_pred)\n",
    "AUC_ROC = roc_auc_score(y_test, y_pred)\n",
    "\n",
    "plt.figure(figsize=(15, 7))\n",
    "\n",
    "# 形成热力图\n",
    "plt.subplot(1, 2, 1)\n",
    "sns.heatmap(mat, annot=True, square=\"equal\", cmap=\"OrRd\", fmt=\"d\",\n",
    "    xticklabels=['Yes', 'No'], yticklabels=['Yes', 'No'])\n",
    "plt.xlabel(\"Predict Labels\")\n",
    "plt.ylabel(\"Labels\")\n",
    "plt.title(\"Confusion Matrix\")\n",
    "\n",
    "# ROC曲线\n",
    "plt.subplot(1, 2, 2)\n",
    "plt.plot(fpr,tpr,'-',label='Area Under the Curve (AUC = %0.4f)' % AUC_ROC)\n",
    "plt.plot([0, 1], [0, 1], color='navy', linestyle='--')\n",
    "plt.title('ROC curve')\n",
    "plt.xlabel(\"FPR (False Positive Rate)\")\n",
    "plt.ylabel(\"TPR (True Positive Rate)\")\n",
    "plt.legend(loc=\"lower right\")\n",
    "\n",
    "plt.show()"
   ]
  }
 ],
 "metadata": {
  "kernelspec": {
   "display_name": "ml",
   "language": "python",
   "name": "python3"
  },
  "language_info": {
   "codemirror_mode": {
    "name": "ipython",
    "version": 3
   },
   "file_extension": ".py",
   "mimetype": "text/x-python",
   "name": "python",
   "nbconvert_exporter": "python",
   "pygments_lexer": "ipython3",
   "version": "3.9.15"
  },
  "vscode": {
   "interpreter": {
    "hash": "54a39cc3523c7e5b1833f45fa8a855e5f1115a854f3138154bde004a598fc20f"
   }
  }
 },
 "nbformat": 4,
 "nbformat_minor": 2
}
