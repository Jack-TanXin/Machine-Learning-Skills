{
 "cells": [
  {
   "cell_type": "markdown",
   "metadata": {},
   "source": [
    "# <center>***机器学习——特征工程***<center>\n",
    "\n",
    "更多代码欢迎传送至：\n",
    ">https://gitee.com/tanxin12/tanxin"
   ]
  },
  {
   "cell_type": "markdown",
   "metadata": {},
   "source": [
    "## <font color=#FF0000>**1、导入模块和数据**"
   ]
  },
  {
   "cell_type": "code",
   "execution_count": 1,
   "metadata": {},
   "outputs": [],
   "source": [
    "from sklearn.preprocessing import MinMaxScaler, StandardScaler\n",
    "import pandas as pd\n",
    "import numpy as np\n",
    "from sklearn.model_selection import train_test_split"
   ]
  },
  {
   "cell_type": "code",
   "execution_count": 2,
   "metadata": {},
   "outputs": [],
   "source": [
    "df1 = pd.read_csv(\".\\\\data\\\\train_u6lujuX_CVtuZ9i.csv\")\n",
    "df1 = df1.drop(\"Loan_ID\", axis=1)"
   ]
  },
  {
   "cell_type": "code",
   "execution_count": 3,
   "metadata": {},
   "outputs": [],
   "source": [
    "df1['Gender'].fillna(df1['Gender'].mode()[0], inplace=True)\n",
    "df1['Married'].fillna(df1['Married'].mode()[0], inplace=True)\n",
    "df1['Dependents'].fillna(df1['Dependents'].mode()[0], inplace=True)\n",
    "df1['Self_Employed'].fillna(df1['Self_Employed'].mode()[0], inplace=True)\n",
    "df1['LoanAmount'].fillna(df1['LoanAmount'].mean(), inplace=True)\n",
    "df1['Loan_Amount_Term'].fillna(df1['Loan_Amount_Term'].mode()[0], inplace=True)\n",
    "df1['Credit_History'].fillna(df1['Credit_History'].mode()[0], inplace=True)"
   ]
  },
  {
   "cell_type": "code",
   "execution_count": 4,
   "metadata": {},
   "outputs": [],
   "source": [
    "X = df1.drop(\"Loan_Status\", axis=1)\n",
    "y = df1.Loan_Status\n",
    "X_train, X_test, y_train, y_test = train_test_split(X, y, test_size=0.2, random_state=0)"
   ]
  },
  {
   "cell_type": "markdown",
   "metadata": {},
   "source": [
    "## <font color=#FF0000>**2、特征变换**"
   ]
  },
  {
   "cell_type": "markdown",
   "metadata": {},
   "source": [
    "### <center>**对数据的两种特征缩放**"
   ]
  },
  {
   "cell_type": "code",
   "execution_count": 5,
   "metadata": {},
   "outputs": [],
   "source": [
    "# 数据归一化\n",
    "model = MinMaxScaler()\n",
    "df1[[\"ApplicantIncome\", \"CoapplicantIncome\", \"LoanAmount\"]] = model.fit_transform(df1[[\"ApplicantIncome\", \"CoapplicantIncome\", \"LoanAmount\"]])\n",
    "\n",
    "# 数据标准化\n",
    "model = StandardScaler()\n",
    "df1[[\"ApplicantIncome\", \"CoapplicantIncome\", \"LoanAmount\"]] = model.fit_transform(df1[[\"ApplicantIncome\", \"CoapplicantIncome\", \"LoanAmount\"]])"
   ]
  },
  {
   "cell_type": "markdown",
   "metadata": {},
   "source": [
    "### <center>**特征编码**"
   ]
  },
  {
   "cell_type": "code",
   "execution_count": 6,
   "metadata": {},
   "outputs": [],
   "source": [
    "# 独热编码：一定只对特征独热编码，如果对标签独热编码会出问题的\n",
    "\n",
    "X_train = pd.get_dummies(X_train)\n",
    "X_test = pd.get_dummies(X_test)"
   ]
  },
  {
   "cell_type": "code",
   "execution_count": 7,
   "metadata": {},
   "outputs": [],
   "source": [
    "# 使用数值替换字符串：如果使用的模型不能接受字符串标签，那最好第一步就做这个\n",
    "\n",
    "df1[\"Loan_Status\"] = df1[\"Loan_Status\"].map({\"Y\": 1, \"N\": 0})"
   ]
  },
  {
   "cell_type": "code",
   "execution_count": 8,
   "metadata": {},
   "outputs": [],
   "source": [
    "# 连续数值离散化，由于前面进行标准化了，这里就把代码注释掉了\n",
    "\n",
    "# bins  = [0,5000,10000,15000,81000]\n",
    "# group = ['Low', 'Average', 'High', 'Very High']\n",
    "# df1.ApplicantIncome = pd.cut(df1.ApplicantIncome, bins, labels=group)"
   ]
  },
  {
   "cell_type": "markdown",
   "metadata": {},
   "source": [
    "## <font color=#FF0000>**3、特征选择**"
   ]
  },
  {
   "cell_type": "markdown",
   "metadata": {},
   "source": [
    "### <center>**方差筛选法**"
   ]
  },
  {
   "cell_type": "code",
   "execution_count": 11,
   "metadata": {},
   "outputs": [
    {
     "data": {
      "text/plain": [
       "array([ True, False, False])"
      ]
     },
     "execution_count": 11,
     "metadata": {},
     "output_type": "execute_result"
    }
   ],
   "source": [
    "from sklearn.feature_selection import VarianceThreshold\n",
    "\n",
    "# 定义阈值为 3，这个阈值要多设置几次，直到 False 的个数足够多到你满意\n",
    "# 由于上面进行了除量纲的操作，这里方差过滤毫无意义，所以注释掉了\n",
    "# Model = VarianceThreshold(threshold=1)\n",
    "# Model.fit_transform(df1[[\"ApplicantIncome\", \"CoapplicantIncome\", \"LoanAmount\"]])\n",
    "# Model.get_support()"
   ]
  },
  {
   "cell_type": "markdown",
   "metadata": {},
   "source": [
    "### <center>**互信息**"
   ]
  },
  {
   "cell_type": "code",
   "execution_count": null,
   "metadata": {},
   "outputs": [],
   "source": [
    "from sklearn.metrics import mutual_info_score\n",
    "\n",
    "# 数据可以是字符串，但一次只能检验两个\n",
    "# 一个分类特征与标签的互信息越大说明二者联系很紧\n",
    "\n",
    "m, n = df1.shape\n",
    "mutual = np.ones(shape=(n, n))\n",
    "df2 = np.array(df1)\n",
    "\n",
    "for i in range(0, n):\n",
    "    for j in range(i+1, n): \n",
    "        mutual[i, j] = mutual_info_score(df2[:, i], df2[:, j])"
   ]
  },
  {
   "attachments": {},
   "cell_type": "markdown",
   "metadata": {},
   "source": [
    "## <font color=#FF0000>**4、数据降维**"
   ]
  }
 ],
 "metadata": {
  "kernelspec": {
   "display_name": "ml",
   "language": "python",
   "name": "python3"
  },
  "language_info": {
   "codemirror_mode": {
    "name": "ipython",
    "version": 3
   },
   "file_extension": ".py",
   "mimetype": "text/x-python",
   "name": "python",
   "nbconvert_exporter": "python",
   "pygments_lexer": "ipython3",
   "version": "3.9.15"
  },
  "orig_nbformat": 4,
  "vscode": {
   "interpreter": {
    "hash": "54a39cc3523c7e5b1833f45fa8a855e5f1115a854f3138154bde004a598fc20f"
   }
  }
 },
 "nbformat": 4,
 "nbformat_minor": 2
}
